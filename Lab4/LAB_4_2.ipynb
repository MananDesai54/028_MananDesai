{
  "nbformat": 4,
  "nbformat_minor": 0,
  "metadata": {
    "colab": {
      "name": "LAB_4_2.ipynb",
      "provenance": []
    },
    "kernelspec": {
      "name": "python3",
      "display_name": "Python 3"
    },
    "language_info": {
      "name": "python"
    }
  },
  "cells": [
    {
      "cell_type": "code",
      "metadata": {
        "colab": {
          "base_uri": "https://localhost:8080/"
        },
        "id": "eIV6hgj5wP7s",
        "outputId": "24e6900e-46a7-4ad9-e2f6-90d7d46d40dd"
      },
      "source": [
        "#Import scikit-learn dataset library\n",
        "from sklearn import datasets\n",
        "from sklearn.tree import DecisionTreeClassifier\n",
        "import pandas as pd\n",
        "import numpy as np\n",
        "\n",
        "#Load dataset\n",
        "digits = datasets.load_digits()\n",
        "print(digits)"
      ],
      "execution_count": 45,
      "outputs": [
        {
          "output_type": "stream",
          "name": "stdout",
          "text": [
            "{'data': array([[ 0.,  0.,  5., ...,  0.,  0.,  0.],\n",
            "       [ 0.,  0.,  0., ..., 10.,  0.,  0.],\n",
            "       [ 0.,  0.,  0., ..., 16.,  9.,  0.],\n",
            "       ...,\n",
            "       [ 0.,  0.,  1., ...,  6.,  0.,  0.],\n",
            "       [ 0.,  0.,  2., ..., 12.,  0.,  0.],\n",
            "       [ 0.,  0., 10., ..., 12.,  1.,  0.]]), 'target': array([0, 1, 2, ..., 8, 9, 8]), 'target_names': array([0, 1, 2, 3, 4, 5, 6, 7, 8, 9]), 'images': array([[[ 0.,  0.,  5., ...,  1.,  0.,  0.],\n",
            "        [ 0.,  0., 13., ..., 15.,  5.,  0.],\n",
            "        [ 0.,  3., 15., ..., 11.,  8.,  0.],\n",
            "        ...,\n",
            "        [ 0.,  4., 11., ..., 12.,  7.,  0.],\n",
            "        [ 0.,  2., 14., ..., 12.,  0.,  0.],\n",
            "        [ 0.,  0.,  6., ...,  0.,  0.,  0.]],\n",
            "\n",
            "       [[ 0.,  0.,  0., ...,  5.,  0.,  0.],\n",
            "        [ 0.,  0.,  0., ...,  9.,  0.,  0.],\n",
            "        [ 0.,  0.,  3., ...,  6.,  0.,  0.],\n",
            "        ...,\n",
            "        [ 0.,  0.,  1., ...,  6.,  0.,  0.],\n",
            "        [ 0.,  0.,  1., ...,  6.,  0.,  0.],\n",
            "        [ 0.,  0.,  0., ..., 10.,  0.,  0.]],\n",
            "\n",
            "       [[ 0.,  0.,  0., ..., 12.,  0.,  0.],\n",
            "        [ 0.,  0.,  3., ..., 14.,  0.,  0.],\n",
            "        [ 0.,  0.,  8., ..., 16.,  0.,  0.],\n",
            "        ...,\n",
            "        [ 0.,  9., 16., ...,  0.,  0.,  0.],\n",
            "        [ 0.,  3., 13., ..., 11.,  5.,  0.],\n",
            "        [ 0.,  0.,  0., ..., 16.,  9.,  0.]],\n",
            "\n",
            "       ...,\n",
            "\n",
            "       [[ 0.,  0.,  1., ...,  1.,  0.,  0.],\n",
            "        [ 0.,  0., 13., ...,  2.,  1.,  0.],\n",
            "        [ 0.,  0., 16., ..., 16.,  5.,  0.],\n",
            "        ...,\n",
            "        [ 0.,  0., 16., ..., 15.,  0.,  0.],\n",
            "        [ 0.,  0., 15., ..., 16.,  0.,  0.],\n",
            "        [ 0.,  0.,  2., ...,  6.,  0.,  0.]],\n",
            "\n",
            "       [[ 0.,  0.,  2., ...,  0.,  0.,  0.],\n",
            "        [ 0.,  0., 14., ..., 15.,  1.,  0.],\n",
            "        [ 0.,  4., 16., ..., 16.,  7.,  0.],\n",
            "        ...,\n",
            "        [ 0.,  0.,  0., ..., 16.,  2.,  0.],\n",
            "        [ 0.,  0.,  4., ..., 16.,  2.,  0.],\n",
            "        [ 0.,  0.,  5., ..., 12.,  0.,  0.]],\n",
            "\n",
            "       [[ 0.,  0., 10., ...,  1.,  0.,  0.],\n",
            "        [ 0.,  2., 16., ...,  1.,  0.,  0.],\n",
            "        [ 0.,  0., 15., ..., 15.,  0.,  0.],\n",
            "        ...,\n",
            "        [ 0.,  4., 16., ..., 16.,  6.,  0.],\n",
            "        [ 0.,  8., 16., ..., 16.,  8.,  0.],\n",
            "        [ 0.,  1.,  8., ..., 12.,  1.,  0.]]]), 'DESCR': \".. _digits_dataset:\\n\\nOptical recognition of handwritten digits dataset\\n--------------------------------------------------\\n\\n**Data Set Characteristics:**\\n\\n    :Number of Instances: 5620\\n    :Number of Attributes: 64\\n    :Attribute Information: 8x8 image of integer pixels in the range 0..16.\\n    :Missing Attribute Values: None\\n    :Creator: E. Alpaydin (alpaydin '@' boun.edu.tr)\\n    :Date: July; 1998\\n\\nThis is a copy of the test set of the UCI ML hand-written digits datasets\\nhttps://archive.ics.uci.edu/ml/datasets/Optical+Recognition+of+Handwritten+Digits\\n\\nThe data set contains images of hand-written digits: 10 classes where\\neach class refers to a digit.\\n\\nPreprocessing programs made available by NIST were used to extract\\nnormalized bitmaps of handwritten digits from a preprinted form. From a\\ntotal of 43 people, 30 contributed to the training set and different 13\\nto the test set. 32x32 bitmaps are divided into nonoverlapping blocks of\\n4x4 and the number of on pixels are counted in each block. This generates\\nan input matrix of 8x8 where each element is an integer in the range\\n0..16. This reduces dimensionality and gives invariance to small\\ndistortions.\\n\\nFor info on NIST preprocessing routines, see M. D. Garris, J. L. Blue, G.\\nT. Candela, D. L. Dimmick, J. Geist, P. J. Grother, S. A. Janet, and C.\\nL. Wilson, NIST Form-Based Handprint Recognition System, NISTIR 5469,\\n1994.\\n\\n.. topic:: References\\n\\n  - C. Kaynak (1995) Methods of Combining Multiple Classifiers and Their\\n    Applications to Handwritten Digit Recognition, MSc Thesis, Institute of\\n    Graduate Studies in Science and Engineering, Bogazici University.\\n  - E. Alpaydin, C. Kaynak (1998) Cascading Classifiers, Kybernetika.\\n  - Ken Tang and Ponnuthurai N. Suganthan and Xi Yao and A. Kai Qin.\\n    Linear dimensionalityreduction using relevance weighted LDA. School of\\n    Electrical and Electronic Engineering Nanyang Technological University.\\n    2005.\\n  - Claudio Gentile. A New Approximate Maximal Margin Classification\\n    Algorithm. NIPS. 2000.\"}\n"
          ]
        }
      ]
    },
    {
      "cell_type": "code",
      "metadata": {
        "colab": {
          "base_uri": "https://localhost:8080/"
        },
        "id": "YYAEjim9wsRS",
        "outputId": "b3ce0e3c-e9e6-4864-fb76-73cf18530928"
      },
      "source": [
        "# print the names of the 13 features\n",
        "# print the label type\n",
        "# print data(feature)shape\n",
        "print(\"\\nLabels:\", np.unique(digits.target_names))\n",
        "\n",
        "print(digits.data.shape)\n",
        "print(digits.target.shape)"
      ],
      "execution_count": 47,
      "outputs": [
        {
          "output_type": "stream",
          "name": "stdout",
          "text": [
            "\n",
            "Labels: [0 1 2 3 4 5 6 7 8 9]\n",
            "(1797, 64)\n",
            "(1797,)\n"
          ]
        }
      ]
    },
    {
      "cell_type": "code",
      "metadata": {
        "id": "-nDgVIxfxNln"
      },
      "source": [
        "#import the necessary module\n",
        "from sklearn.model_selection import train_test_split\n",
        "\n",
        "#split data set into train and test sets\n",
        "X_train, X_test, y_train, y_test = train_test_split( \n",
        "    digits.data, digits.target, test_size = 0.35, random_state = 28)"
      ],
      "execution_count": 48,
      "outputs": []
    },
    {
      "cell_type": "code",
      "metadata": {
        "colab": {
          "base_uri": "https://localhost:8080/"
        },
        "id": "9pFkv889xi76",
        "outputId": "d2b495f0-5c8f-4ad4-c005-bcbf5444658e"
      },
      "source": [
        "#Create a Decision Tree Classifier (using Gini)\n",
        "#Train the model using the training sets\n",
        "clf_gini = DecisionTreeClassifier(criterion = \"gini\",\n",
        "            random_state = 26,max_depth=7, min_samples_leaf=26)\n",
        "\n",
        "clf_gini.fit(X_train, y_train)"
      ],
      "execution_count": 49,
      "outputs": [
        {
          "output_type": "execute_result",
          "data": {
            "text/plain": [
              "DecisionTreeClassifier(ccp_alpha=0.0, class_weight=None, criterion='gini',\n",
              "                       max_depth=7, max_features=None, max_leaf_nodes=None,\n",
              "                       min_impurity_decrease=0.0, min_impurity_split=None,\n",
              "                       min_samples_leaf=26, min_samples_split=2,\n",
              "                       min_weight_fraction_leaf=0.0, presort='deprecated',\n",
              "                       random_state=26, splitter='best')"
            ]
          },
          "metadata": {},
          "execution_count": 49
        }
      ]
    },
    {
      "cell_type": "code",
      "metadata": {
        "colab": {
          "base_uri": "https://localhost:8080/"
        },
        "id": "dJYHNsVgxtda",
        "outputId": "9da4ad55-886f-4f25-84af-a4542378be6f"
      },
      "source": [
        "# Predict the classes of test data\n",
        "y_pred = clf_gini.predict(X_test)\n",
        "print(\"Predicted values:\")\n",
        "print(y_pred)"
      ],
      "execution_count": 50,
      "outputs": [
        {
          "output_type": "stream",
          "name": "stdout",
          "text": [
            "Predicted values:\n",
            "[8 8 2 0 2 8 8 2 8 7 6 2 9 7 5 3 1 1 6 9 2 9 1 8 7 6 1 6 7 1 6 5 8 7 2 8 6\n",
            " 1 7 1 2 8 4 8 3 1 9 2 7 5 5 4 8 8 0 2 9 8 4 0 3 9 5 6 4 8 3 8 0 8 2 0 7 7\n",
            " 8 9 2 6 8 5 1 1 4 3 1 5 0 2 1 6 4 9 0 4 3 3 9 6 1 0 0 9 1 4 9 2 2 7 9 2 9\n",
            " 0 2 0 2 0 2 1 4 2 0 9 2 5 5 5 2 9 0 8 2 1 8 3 7 6 0 4 8 9 5 2 9 1 3 2 4 0\n",
            " 8 4 9 3 2 7 5 6 2 8 0 0 4 2 9 4 9 2 1 7 9 5 6 7 2 4 7 4 8 0 3 4 3 8 4 1 6\n",
            " 0 8 9 5 4 6 2 2 9 0 9 3 2 2 5 2 3 8 1 2 6 6 2 4 8 4 1 4 9 6 1 1 5 2 1 1 2\n",
            " 3 6 5 2 7 8 5 8 8 5 2 4 7 0 6 0 6 9 0 1 5 7 0 6 6 7 9 7 9 8 2 2 0 2 9 2 8\n",
            " 4 3 3 9 3 1 7 2 2 6 0 4 1 8 6 0 9 8 4 0 1 0 1 9 0 3 8 2 8 2 4 2 2 9 2 6 4\n",
            " 2 8 7 1 4 3 6 2 9 4 6 4 8 4 1 7 3 9 6 2 0 4 2 6 4 9 7 9 9 7 3 9 8 5 0 1 4\n",
            " 1 9 1 9 0 3 4 4 1 0 5 1 9 8 3 4 4 5 9 7 1 3 2 2 2 3 3 7 6 6 4 9 2 3 2 9 4\n",
            " 1 5 7 3 6 0 9 0 2 0 0 5 2 3 8 3 9 8 2 5 4 1 9 9 9 0 1 1 3 7 9 8 0 5 0 6 4\n",
            " 4 1 6 2 6 5 1 8 5 2 0 4 8 2 5 8 4 7 4 7 4 1 8 8 9 1 8 0 0 4 8 2 2 9 9 8 3\n",
            " 5 8 2 9 3 8 5 9 8 5 4 4 8 3 2 8 9 8 7 4 4 5 5 2 1 8 7 7 7 9 7 9 5 4 6 8 7\n",
            " 2 9 4 4 2 2 2 9 0 1 0 3 6 2 0 2 6 0 0 9 8 5 7 2 4 7 0 7 5 2 4 0 4 4 1 4 1\n",
            " 8 9 6 3 8 4 2 5 1 2 7 2 2 5 4 8 3 2 4 2 6 9 5 5 2 3 0 4 8 2 5 2 8 9 2 4 8\n",
            " 9 9 1 0 4 9 3 7 8 7 9 1 4 5 0 0 9 5 4 8 2 7 4 9 3 2 2 5 1 1 9 5 6 0 6 3 4\n",
            " 3 2 5 2 0 4 0 9 9 0 8 0 8 1 8 6 3 0 9 5 0 6 9 7 5 5 6 7 8 9 6 2 2 6 0 6 6]\n"
          ]
        }
      ]
    },
    {
      "cell_type": "code",
      "metadata": {
        "colab": {
          "base_uri": "https://localhost:8080/"
        },
        "id": "O5_gKvO0x2a3",
        "outputId": "c6db8108-73ec-4f7e-9004-f1b21d463290"
      },
      "source": [
        "# Model Accuracy\n",
        "from sklearn import metrics\n",
        "print(\"Confusion Matrix: \",\n",
        "        metrics.confusion_matrix(y_test, y_pred))\n",
        "print (\"Accuracy : \",\n",
        "    metrics.accuracy_score(y_test,y_pred)*100)\n",
        "print(\"Report : \",\n",
        "    metrics.classification_report(y_test, y_pred))"
      ],
      "execution_count": 51,
      "outputs": [
        {
          "output_type": "stream",
          "name": "stdout",
          "text": [
            "Confusion Matrix:  [[55  0  0  0  0  0  0  0  0  0]\n",
            " [ 0 40  3  3  9  0  0  0  3 10]\n",
            " [ 0  2 56  1  2  0  3  0  1  0]\n",
            " [ 0  4 13 37  0  1  0  3  6  1]\n",
            " [ 3  2  4  0 51  0  0  0  0  8]\n",
            " [ 0  1  3  0  1 46  0  0  0  6]\n",
            " [ 3  1  1  0  8  0 47  0  0  0]\n",
            " [ 0  0 12  0  0  0  0 43  5  6]\n",
            " [ 1  5  3  1  1  1  0  0 51  6]\n",
            " [ 2  1  1  2  0  3  0  0  7 40]]\n",
            "Accuracy :  74.0858505564388\n",
            "Report :                precision    recall  f1-score   support\n",
            "\n",
            "           0       0.86      1.00      0.92        55\n",
            "           1       0.71      0.59      0.65        68\n",
            "           2       0.58      0.86      0.70        65\n",
            "           3       0.84      0.57      0.68        65\n",
            "           4       0.71      0.75      0.73        68\n",
            "           5       0.90      0.81      0.85        57\n",
            "           6       0.94      0.78      0.85        60\n",
            "           7       0.93      0.65      0.77        66\n",
            "           8       0.70      0.74      0.72        69\n",
            "           9       0.52      0.71      0.60        56\n",
            "\n",
            "    accuracy                           0.74       629\n",
            "   macro avg       0.77      0.75      0.75       629\n",
            "weighted avg       0.77      0.74      0.74       629\n",
            "\n"
          ]
        }
      ]
    }
  ]
}