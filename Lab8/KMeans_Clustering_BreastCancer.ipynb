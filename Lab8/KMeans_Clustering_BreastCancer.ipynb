{
  "nbformat": 4,
  "nbformat_minor": 0,
  "metadata": {
    "colab": {
      "name": "KMeans_Clustering_BreastCancer.ipynb",
      "provenance": []
    },
    "kernelspec": {
      "name": "python3",
      "display_name": "Python 3"
    },
    "language_info": {
      "name": "python"
    }
  },
  "cells": [
    {
      "cell_type": "markdown",
      "metadata": {
        "id": "bJTjaM75DPmE"
      },
      "source": [
        "## Write a python program to perform K-Means clustering on Breast Cancer Data"
      ]
    },
    {
      "cell_type": "code",
      "metadata": {
        "id": "Y9eI8rV7DSBD"
      },
      "source": [
        "import numpy as np \n",
        "import pandas as pd \n",
        "from sklearn import datasets\n",
        "from sklearn.cluster import KMeans\n",
        "from sklearn.metrics import accuracy_score, confusion_matrix\n",
        "import matplotlib.pyplot as plt"
      ],
      "execution_count": 1,
      "outputs": []
    },
    {
      "cell_type": "code",
      "metadata": {
        "colab": {
          "base_uri": "https://localhost:8080/"
        },
        "id": "-xHOOElmDTeb",
        "outputId": "8c44a161-0da2-4003-ec57-5fbc04b75f3d"
      },
      "source": [
        "dataset=datasets.load_breast_cancer()\n",
        "dataset\n",
        "\n",
        "print(dataset.data.shape)\n",
        "print(dataset.target.shape)"
      ],
      "execution_count": 2,
      "outputs": [
        {
          "output_type": "stream",
          "name": "stdout",
          "text": [
            "(569, 30)\n",
            "(569,)\n"
          ]
        }
      ]
    },
    {
      "cell_type": "code",
      "metadata": {
        "colab": {
          "base_uri": "https://localhost:8080/"
        },
        "id": "LQGvakurDU7r",
        "outputId": "d5a4a412-82a1-498f-afea-ab77d7cac5b8"
      },
      "source": [
        "print(dataset.feature_names)"
      ],
      "execution_count": 3,
      "outputs": [
        {
          "output_type": "stream",
          "name": "stdout",
          "text": [
            "['mean radius' 'mean texture' 'mean perimeter' 'mean area'\n",
            " 'mean smoothness' 'mean compactness' 'mean concavity'\n",
            " 'mean concave points' 'mean symmetry' 'mean fractal dimension'\n",
            " 'radius error' 'texture error' 'perimeter error' 'area error'\n",
            " 'smoothness error' 'compactness error' 'concavity error'\n",
            " 'concave points error' 'symmetry error' 'fractal dimension error'\n",
            " 'worst radius' 'worst texture' 'worst perimeter' 'worst area'\n",
            " 'worst smoothness' 'worst compactness' 'worst concavity'\n",
            " 'worst concave points' 'worst symmetry' 'worst fractal dimension']\n"
          ]
        }
      ]
    },
    {
      "cell_type": "code",
      "metadata": {
        "colab": {
          "base_uri": "https://localhost:8080/"
        },
        "id": "yqZPwWdJDWQb",
        "outputId": "03738f15-fc0c-4e17-e3f3-cdd958481fe5"
      },
      "source": [
        "print(dataset.target_names)"
      ],
      "execution_count": 4,
      "outputs": [
        {
          "output_type": "stream",
          "name": "stdout",
          "text": [
            "['malignant' 'benign']\n"
          ]
        }
      ]
    },
    {
      "cell_type": "code",
      "metadata": {
        "colab": {
          "base_uri": "https://localhost:8080/",
          "height": 279
        },
        "id": "YKLUqJoyDYFD",
        "outputId": "0572ef61-3812-4154-c776-c8996b239c47"
      },
      "source": [
        "# 0 for benign and 1 for malignant\n",
        "\n",
        "plt.scatter(dataset.data[:, 0], dataset.target, c='orange', marker='*')\n",
        "plt.xlabel('Features')\n",
        "plt.ylabel('Type of Cancer')\n",
        "plt.show()"
      ],
      "execution_count": 5,
      "outputs": [
        {
          "output_type": "display_data",
          "data": {
            "image/png": "[encoded data removed]",
            "text/plain": [
              "<Figure size 432x288 with 1 Axes>"
            ]
          },
          "metadata": {
            "needs_background": "light"
          }
        }
      ]
    },
    {
      "cell_type": "code",
      "metadata": {
        "colab": {
          "base_uri": "https://localhost:8080/"
        },
        "id": "nPxnLAgpDczz",
        "outputId": "8924c256-c840-48e0-f250-4b0533dfaeec"
      },
      "source": [
        "kmeans = KMeans(n_clusters=7, random_state=28)\n",
        "prediction = kmeans.fit_predict(dataset.data)\n",
        "print(prediction)"
      ],
      "execution_count": 6,
      "outputs": [
        {
          "output_type": "stream",
          "name": "stdout",
          "text": [
            "[5 5 1 6 1 6 1 2 6 6 4 4 4 2 6 2 4 4 5 6 6 0 2 5 5 4 2 4 4 4 1 2 4 1 4 4 2\n",
            " 6 2 6 2 0 1 2 6 1 0 6 6 6 6 6 6 4 2 0 5 2 6 0 0 0 2 0 2 2 0 0 0 6 1 0 1 2\n",
            " 6 4 6 1 1 6 6 6 3 4 6 1 2 1 6 2 2 2 2 6 2 1 6 0 6 2 2 0 6 0 0 2 6 6 5 0 0\n",
            " 6 2 0 0 6 0 2 4 4 0 1 5 2 6 6 2 1 2 1 6 4 4 2 1 6 6 0 2 0 0 4 0 6 0 6 6 2\n",
            " 2 6 6 0 0 0 6 6 4 4 6 0 6 1 5 6 5 2 0 4 1 2 6 2 4 0 0 0 0 2 6 6 3 5 4 0 2\n",
            " 0 4 6 0 6 2 6 0 6 2 6 2 4 1 2 6 4 5 2 6 2 0 4 6 2 1 6 3 4 2 2 6 0 5 5 6 6\n",
            " 0 4 6 2 0 2 6 6 4 0 0 1 0 6 3 1 2 4 6 6 0 6 1 0 6 6 0 0 5 0 5 4 5 2 5 2 4\n",
            " 2 1 4 4 2 4 3 0 6 6 0 6 0 5 0 4 0 0 4 6 6 1 6 1 2 6 6 6 6 0 0 2 2 6 6 6 6\n",
            " 0 6 2 0 5 6 1 0 0 0 6 0 6 6 0 2 6 0 0 6 6 1 0 6 0 1 6 5 6 6 2 6 4 2 4 6 0\n",
            " 0 6 4 6 1 0 3 2 0 0 1 6 0 6 2 0 6 6 2 3 2 0 6 6 6 0 0 6 6 6 2 6 1 1 6 3 5\n",
            " 4 2 1 5 6 2 0 6 6 0 0 0 6 6 6 2 6 2 0 4 0 0 4 5 6 6 6 6 0 6 4 6 6 6 6 0 2\n",
            " 6 4 6 6 0 0 2 2 6 0 1 6 0 6 2 0 6 0 0 0 0 0 6 2 6 1 1 2 2 6 2 2 6 0 4 6 0\n",
            " 4 6 4 2 2 5 6 1 6 2 6 6 6 6 6 0 1 3 2 0 6 6 6 0 4 6 0 6 2 6 0 6 2 6 0 2 6\n",
            " 2 6 6 2 6 2 1 6 4 6 4 4 6 6 2 6 6 1 1 2 2 6 3 0 0 6 0 2 2 0 2 2 2 2 0 1 1\n",
            " 6 6 0 3 0 6 0 0 6 6 6 6 6 6 2 1 0 1 2 0 0 0 0 2 2 6 6 6 0 0 0 0 0 0 6 0 6\n",
            " 0 0 0 2 0 6 0 2 1 5 1 4 1 0]\n"
          ]
        }
      ]
    },
    {
      "cell_type": "code",
      "metadata": {
        "colab": {
          "base_uri": "https://localhost:8080/"
        },
        "id": "ysFYKizDDeX8",
        "outputId": "43941fba-68d7-4cbc-d4ce-062dc69c3e3f"
      },
      "source": [
        "kmeans.cluster_centers_.shape\n",
        "print(kmeans.cluster_centers_)"
      ],
      "execution_count": 7,
      "outputs": [
        {
          "output_type": "stream",
          "name": "stdout",
          "text": [
            "[[1.03554000e+01 1.78704444e+01 6.62887407e+01 3.30835556e+02\n",
            "  9.57749630e-02 7.99492593e-02 4.51093681e-02 2.06685185e-02\n",
            "  1.81264444e-01 6.66965926e-02 2.84392593e-01 1.43038593e+00\n",
            "  1.97211778e+00 1.80684519e+01 9.08735556e-03 2.40969111e-02\n",
            "  3.05678570e-02 1.00769630e-02 2.37940741e-02 4.44711852e-03\n",
            "  1.13863630e+01 2.34357778e+01 7.36892593e+01 3.98189630e+02\n",
            "  1.31491556e-01 1.73767926e-01 1.53953578e-01 6.11321481e-02\n",
            "  2.76305185e-01 8.38474074e-02]\n",
            " [1.93535294e+01 2.19831373e+01 1.27835294e+02 1.16550980e+03\n",
            "  9.99629412e-02 1.46037255e-01 1.72516078e-01 9.76788235e-02\n",
            "  1.92627451e-01 6.01862745e-02 6.97988235e-01 1.22558627e+00\n",
            "  4.88458824e+00 8.47558824e+01 6.65819608e-03 3.22264706e-02\n",
            "  4.37141176e-02 1.59514902e-02 2.15458824e-02 3.85247059e-03\n",
            "  2.33186275e+01 2.91407843e+01 1.55774510e+02 1.65778431e+03\n",
            "  1.38927451e-01 3.57382353e-01 4.49017647e-01 1.86996078e-01\n",
            "  3.15827451e-01 8.56237255e-02]\n",
            " [1.46545714e+01 1.96167619e+01 9.57589524e+01 6.64457143e+02\n",
            "  9.73886667e-02 1.16843905e-01 1.01685905e-01 5.44353048e-02\n",
            "  1.82445714e-01 6.25719048e-02 3.64198095e-01 1.09764952e+00\n",
            "  2.61652381e+00 3.28205714e+01 6.21715238e-03 2.77464476e-02\n",
            "  3.45237714e-02 1.27225333e-02 1.92705524e-02 3.76264571e-03\n",
            "  1.67706667e+01 2.64486667e+01 1.11415238e+02 8.62890476e+02\n",
            "  1.33973143e-01 3.04078000e-01 3.34199143e-01 1.34143238e-01\n",
            "  2.98683810e-01 8.71415238e-02]\n",
            " [2.45981818e+01 2.27290909e+01 1.64181818e+02 1.91300000e+03\n",
            "  1.03649091e-01 1.70829091e-01 2.47209091e-01 1.43200909e-01\n",
            "  1.81654545e-01 5.87154545e-02 1.35242727e+00 1.16268182e+00\n",
            "  9.72090909e+00 2.30309091e+02 6.71336364e-03 3.14645455e-02\n",
            "  4.31036364e-02 1.60718182e-02 1.93036364e-02 3.54445455e-03\n",
            "  3.14572727e+01 2.99572727e+01 2.12781818e+02 3.05581818e+03\n",
            "  1.39772727e-01 3.70072727e-01 4.88136364e-01 2.31190909e-01\n",
            "  2.75718182e-01 8.03945455e-02]\n",
            " [1.70392857e+01 2.11112500e+01 1.12048929e+02 9.05921429e+02\n",
            "  9.90483929e-02 1.28726429e-01 1.34324821e-01 7.76108929e-02\n",
            "  1.87710714e-01 6.06508929e-02 5.44832143e-01 1.25258036e+00\n",
            "  3.89548214e+00 5.89439286e+01 6.60882143e-03 2.97026071e-02\n",
            "  3.79185714e-02 1.47495000e-02 1.92898214e-02 3.97657143e-03\n",
            "  2.02214286e+01 2.84323214e+01 1.34278571e+02 1.25741071e+03\n",
            "  1.37247857e-01 3.14813571e-01 3.78894643e-01 1.63609821e-01\n",
            "  3.10610714e-01 8.48858929e-02]\n",
            " [2.06419231e+01 2.14592308e+01 1.37246154e+02 1.33352308e+03\n",
            "  1.05667692e-01 1.68340000e-01 2.15884615e-01 1.19170385e-01\n",
            "  1.96830769e-01 6.15276923e-02 8.37250000e-01 1.12085385e+00\n",
            "  5.83076923e+00 1.12753077e+02 6.66369231e-03 3.54123077e-02\n",
            "  4.78619231e-02 1.59226923e-02 1.89926923e-02 4.10257692e-03\n",
            "  2.63642308e+01 2.88315385e+01 1.76503846e+02 2.13446154e+03\n",
            "  1.47103846e-01 4.15134615e-01 5.41857692e-01 2.24803846e-01\n",
            "  3.25753846e-01 9.09650000e-02]\n",
            " [1.27201081e+01 1.83362703e+01 8.19349730e+01 4.98994054e+02\n",
            "  9.26554054e-02 8.32201081e-02 4.92281946e-02 2.87976595e-02\n",
            "  1.72983784e-01 6.18714054e-02 2.76518378e-01 1.13217946e+00\n",
            "  1.96770703e+00 2.15027405e+01 6.32409730e-03 2.03074324e-02\n",
            "  2.33754481e-02 9.65117838e-03 1.92850811e-02 3.23806216e-03\n",
            "  1.40861622e+01 2.43884324e+01 9.18442162e+01 6.08760541e+02\n",
            "  1.26301676e-01 2.08484270e-01 1.91485427e-01 8.53303297e-02\n",
            "  2.77762703e-01 8.06814054e-02]]\n"
          ]
        }
      ]
    },
    {
      "cell_type": "code",
      "metadata": {
        "colab": {
          "base_uri": "https://localhost:8080/",
          "height": 281
        },
        "id": "Si_Ixli6DgCV",
        "outputId": "ee36ef6a-0340-48e7-9f22-b579c6d7c595"
      },
      "source": [
        "plt.scatter(dataset.data[:, 0], dataset.target, c='orange', marker='*')\n",
        "plt.scatter(kmeans.cluster_centers_[:, 0], kmeans.cluster_centers_[:, 1], c='green', marker='+')\n",
        "plt.title('Data points and cluster centroids')\n",
        "plt.show()"
      ],
      "execution_count": 8,
      "outputs": [
        {
          "output_type": "display_data",
          "data": {
            "image/png": "[encoded data removed]",
            "text/plain": [
              "<Figure size 432x288 with 1 Axes>"
            ]
          },
          "metadata": {
            "needs_background": "light"
          }
        }
      ]
    },
    {
      "cell_type": "code",
      "metadata": {
        "id": "d_CxG_zRDnaM"
      },
      "source": [
        "from scipy.stats import mode\n",
        "labels = np.zeros_like(prediction)\n",
        "for i in range(10):\n",
        "  mask = (prediction == i)\n",
        "  labels[mask] = mode(dataset.target[mask])[0]"
      ],
      "execution_count": 9,
      "outputs": []
    },
    {
      "cell_type": "code",
      "metadata": {
        "colab": {
          "base_uri": "https://localhost:8080/"
        },
        "id": "n2xs4KITEKPd",
        "outputId": "07a88d41-ed4e-4153-b350-1f50ac1e4413"
      },
      "source": [
        "accuracy_score(dataset.target, labels)"
      ],
      "execution_count": 10,
      "outputs": [
        {
          "output_type": "execute_result",
          "data": {
            "text/plain": [
              "0.8822495606326889"
            ]
          },
          "metadata": {},
          "execution_count": 10
        }
      ]
    },
    {
      "cell_type": "code",
      "metadata": {
        "colab": {
          "base_uri": "https://localhost:8080/",
          "height": 296
        },
        "id": "JIVOhUgID18k",
        "outputId": "5fb75018-9bfd-496c-9e7c-f376e3a0bf16"
      },
      "source": [
        "import seaborn as sns\n",
        "\n",
        "mat = confusion_matrix(dataset.target, labels)\n",
        "ax = sns.heatmap(mat.T, square=True, annot=True, cbar=False, xticklabels=dataset.target_names, yticklabels=dataset.target_names)\n",
        "\n",
        "plt.xlabel('true label')\n",
        "plt.ylabel('predicted label')"
      ],
      "execution_count": 11,
      "outputs": [
        {
          "output_type": "execute_result",
          "data": {
            "text/plain": [
              "Text(91.68, 0.5, 'predicted label')"
            ]
          },
          "metadata": {},
          "execution_count": 11
        },
        {
          "output_type": "display_data",
          "data": {
            "image/png": "[encoded data removed]",
            "text/plain": [
              "<Figure size 432x288 with 1 Axes>"
            ]
          },
          "metadata": {
            "needs_background": "light"
          }
        }
      ]
    }
  ]
}