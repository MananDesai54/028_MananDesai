{
  "nbformat": 4,
  "nbformat_minor": 0,
  "metadata": {
    "colab": {
      "name": "LogisticRegression_Tweets_Tensorflow.ipynb",
      "provenance": [],
      "collapsed_sections": []
    },
    "kernelspec": {
      "name": "python3",
      "display_name": "Python 3"
    },
    "language_info": {
      "name": "python"
    }
  },
  "cells": [
    {
      "cell_type": "markdown",
      "metadata": {
        "id": "YukRtmfM_FT_"
      },
      "source": [
        "## Replace Manual version of Logistic Regression with TF based version."
      ]
    },
    {
      "cell_type": "code",
      "metadata": {
        "id": "hiniBtGA_IDf"
      },
      "source": [
        "import nltk\n",
        "from nltk.corpus import twitter_samples\n",
        "import pandas as pd\n",
        "import tensorflow as tf"
      ],
      "execution_count": 1,
      "outputs": []
    },
    {
      "cell_type": "code",
      "metadata": {
        "colab": {
          "base_uri": "https://localhost:8080/"
        },
        "id": "_Phi6gKQ_J5f",
        "outputId": "8b2965cd-4984-4a00-b9a3-85a87b0967ee"
      },
      "source": [
        "nltk.download('twitter_samples')\n",
        "nltk.download('stopwords')"
      ],
      "execution_count": 2,
      "outputs": [
        {
          "output_type": "stream",
          "name": "stdout",
          "text": [
            "[nltk_data] Downloading package twitter_samples to /root/nltk_data...\n",
            "[nltk_data]   Unzipping corpora/twitter_samples.zip.\n",
            "[nltk_data] Downloading package stopwords to /root/nltk_data...\n",
            "[nltk_data]   Unzipping corpora/stopwords.zip.\n"
          ]
        },
        {
          "output_type": "execute_result",
          "data": {
            "text/plain": [
              "True"
            ]
          },
          "metadata": {},
          "execution_count": 2
        }
      ]
    },
    {
      "cell_type": "code",
      "metadata": {
        "id": "Cbz0uxr-_Llg"
      },
      "source": [
        "import re\n",
        "import string\n",
        "import numpy as np\n",
        "\n",
        "from nltk.corpus import stopwords\n",
        "from nltk.stem import PorterStemmer\n",
        "from nltk.tokenize import TweetTokenizer"
      ],
      "execution_count": 3,
      "outputs": []
    },
    {
      "cell_type": "markdown",
      "metadata": {
        "id": "NQte5JLb_0mY"
      },
      "source": [
        "process_tweet(): cleans the text, tokenizes it into separate words, removes stopwords, and converts words to stems."
      ]
    },
    {
      "cell_type": "code",
      "metadata": {
        "id": "0foIjkjn_dgX"
      },
      "source": [
        "def process_tweet(tweet):\n",
        "    \"\"\"Process tweet function.\n",
        "    Input:\n",
        "        tweet: a string containing a tweet\n",
        "    Output:\n",
        "        tweets_clean: a list of words containing the processed tweet\n",
        "\n",
        "    \"\"\"\n",
        "    stemmer = PorterStemmer()\n",
        "    stopwords_english = stopwords.words('english')\n",
        "\n",
        "    # remove stock market tickers like $GE\n",
        "    tweet = re.sub(r'\\$\\w*', '', tweet)\n",
        "    # remove old style retweet text \"RT\"\n",
        "    tweet = re.sub(r'^RT[\\s]+', '', tweet)\n",
        "    # remove hyperlinks\n",
        "    tweet = re.sub(r'https?:\\/\\/.*[\\r\\n]*', '', tweet)\n",
        "    # remove hashtags\n",
        "    # only removing the hash # sign from the word\n",
        "    tweet = re.sub(r'#', '', tweet)\n",
        "    # tokenize tweets\n",
        "\n",
        "    tokenizer = TweetTokenizer(preserve_case=False, strip_handles=True,\n",
        "                               reduce_len=True)\n",
        "    tweet_tokens = tokenizer.tokenize(tweet)\n",
        "\n",
        "    tweets_clean = []\n",
        "    for word in tweet_tokens:\n",
        "        # 1 remove stopwords\n",
        "        if word in stopwords_english:\n",
        "            continue\n",
        "        # 2 remove punctuation\n",
        "        if word in string.punctuation:\n",
        "            continue\n",
        "        # 3 stemming word\n",
        "        word = stemmer.stem(word)\n",
        "        # 4 Add it to tweets_clean\n",
        "        tweets_clean.append(word)\n",
        "\n",
        "    return tweets_clean"
      ],
      "execution_count": 4,
      "outputs": []
    },
    {
      "cell_type": "markdown",
      "metadata": {
        "id": "oP347G-2_ipI"
      },
      "source": [
        "build_freqs counts how often a word in the 'corpus' (the entire set of tweets) was associated with a positive label '1' or a negative label '0.\n",
        "Then builds the freqs dictionary, where each key is a (word,label) tuple and the value is the count of its frequency within the corpus of tweets."
      ]
    },
    {
      "cell_type": "code",
      "metadata": {
        "id": "lRIYSMls_7ly"
      },
      "source": [
        "def build_freqs(tweets, ys):\n",
        "    \"\"\"Build frequencies.\n",
        "    Input:\n",
        "        tweets: a list of tweets\n",
        "        ys: an m x 1 array with the sentiment label of each tweet\n",
        "            (either 0 or 1)\n",
        "    Output:\n",
        "        freqs: a dictionary mapping each (word, sentiment) pair to its\n",
        "        frequency\n",
        "    \"\"\"\n",
        "    # Convert np array to list since zip needs an iterable.\n",
        "    # The squeeze is necessary or the list ends up with one element.\n",
        "    # Also note that this is just a NOP if ys is already a list.\n",
        "    yslist = np.squeeze(ys).tolist()\n",
        "\n",
        "    # Start with an empty dictionary and populate it by looping over all tweets\n",
        "    # and over all processed words in each tweet.\n",
        "    freqs = {}\n",
        "\n",
        "    for y, tweet in zip(yslist, tweets):\n",
        "        for word in process_tweet(tweet):\n",
        "            pair = (word, y)\n",
        "\n",
        "            #Update the count of pair if present, set it to 1 otherwise\n",
        "            if pair in freqs:\n",
        "                freqs[pair] += 1\n",
        "            else:\n",
        "                freqs[pair] = 1\n",
        "\n",
        "    return freqs"
      ],
      "execution_count": 5,
      "outputs": []
    },
    {
      "cell_type": "markdown",
      "metadata": {
        "id": "lsx1cblNACFZ"
      },
      "source": [
        "select the set of positive and negative tweets"
      ]
    },
    {
      "cell_type": "code",
      "metadata": {
        "id": "3uTYpk4i_9ip"
      },
      "source": [
        "all_positive_tweets = twitter_samples.strings('positive_tweets.json')\n",
        "all_negative_tweets = twitter_samples.strings('negative_tweets.json')"
      ],
      "execution_count": 6,
      "outputs": []
    },
    {
      "cell_type": "markdown",
      "metadata": {
        "id": "bvPXxFcAAHdA"
      },
      "source": [
        "split the data into two pieces, one for training and one for testing"
      ]
    },
    {
      "cell_type": "code",
      "metadata": {
        "id": "m_8GmQg5__E5"
      },
      "source": [
        "from sklearn.model_selection import train_test_split\n",
        "\n",
        "train_pos, test_pos = train_test_split(all_positive_tweets, test_size=0.3)\n",
        "train_neg, test_neg = train_test_split(all_negative_tweets, test_size=0.3)\n",
        "\n",
        "train_x = train_pos + train_neg\n",
        "test_x = test_pos + test_neg"
      ],
      "execution_count": 7,
      "outputs": []
    },
    {
      "cell_type": "markdown",
      "metadata": {
        "id": "ZxyIAQq7BAfC"
      },
      "source": [
        "combine positive and negative labels"
      ]
    },
    {
      "cell_type": "code",
      "metadata": {
        "id": "ATMkmAYPA-OJ"
      },
      "source": [
        "train_y = np.append(np.ones((len(train_pos), 1)), np.zeros((len(train_neg), 1)), axis=0)\n",
        "test_y = np.append(np.ones((len(test_pos), 1)), np.zeros((len(test_neg), 1)), axis=0)"
      ],
      "execution_count": 8,
      "outputs": []
    },
    {
      "cell_type": "markdown",
      "metadata": {
        "id": "yOYiVqJPAMxZ"
      },
      "source": [
        "create frequency dictionary"
      ]
    },
    {
      "cell_type": "code",
      "metadata": {
        "id": "wwQJUnZ9AOWh"
      },
      "source": [
        "freqs = build_freqs(train_x, train_y)"
      ],
      "execution_count": 9,
      "outputs": []
    },
    {
      "cell_type": "code",
      "metadata": {
        "colab": {
          "base_uri": "https://localhost:8080/"
        },
        "id": "gHktqmQ6AQCI",
        "outputId": "97204ce2-079d-4327-e034-e800b6e70426"
      },
      "source": [
        "print(\"type(freqs) = \" + str(type(freqs)))\n",
        "print(\"len(freqs) = \" + str(len(freqs.keys())))"
      ],
      "execution_count": 10,
      "outputs": [
        {
          "output_type": "stream",
          "name": "stdout",
          "text": [
            "type(freqs) = <class 'dict'>\n",
            "len(freqs) = 10391\n"
          ]
        }
      ]
    },
    {
      "cell_type": "markdown",
      "metadata": {
        "id": "U6K0vS57ASSB"
      },
      "source": [
        "Taking an example"
      ]
    },
    {
      "cell_type": "code",
      "metadata": {
        "colab": {
          "base_uri": "https://localhost:8080/"
        },
        "id": "OARe_IDMAU8g",
        "outputId": "4f3b2ceb-6648-46f8-8001-118b41c95741"
      },
      "source": [
        "print('This is an example of a positive tweet: \\n', train_x[0])\n",
        "print('\\nThis is an example of the processed version of the tweet: \\n', process_tweet(train_x[0]))"
      ],
      "execution_count": 11,
      "outputs": [
        {
          "output_type": "stream",
          "name": "stdout",
          "text": [
            "This is an example of a positive tweet: \n",
            " @emily_etc I always walk past this place! May have to go in and try them for myself now ! :D\n",
            "\n",
            "This is an example of the processed version of the tweet: \n",
            " ['alway', 'walk', 'past', 'place', 'may', 'go', 'tri', ':D']\n"
          ]
        }
      ]
    },
    {
      "cell_type": "code",
      "metadata": {
        "id": "ANGTFeKlAYHx"
      },
      "source": [
        "def extract_features(tweet, freqs):\n",
        "    '''\n",
        "    Input:\n",
        "        tweet: a list of words for one tweet\n",
        "        freqs: a dictionary corresponding to the frequencies of each tuple (word, label)\n",
        "    Output:\n",
        "        x: a feature vector of dimension (1,3)\n",
        "    '''\n",
        "    # tokenizes, stems, and removes stopwords\n",
        "    output = []\n",
        "    for word_l in tweet:\n",
        "        word_l = process_tweet(word_l)\n",
        "\n",
        "        # 3 elements in the form of a 1 x 3 vector\n",
        "        x = np.zeros((1, 3))\n",
        "\n",
        "        #bias term is set to 1\n",
        "        x[0,0] = 1\n",
        "\n",
        "        # loop through each word in the list of words\n",
        "        for word in word_l:\n",
        "\n",
        "            # increment the word count for the positive label 1\n",
        "            x[0,1] += freqs.get((word, 1.0),0)\n",
        "\n",
        "            # increment the word count for the negative label 0\n",
        "            x[0,2] += freqs.get((word, 0.0),0)\n",
        "\n",
        "\n",
        "        assert(x.shape == (1, 3))\n",
        "        output.append(x)\n",
        "    return output"
      ],
      "execution_count": 12,
      "outputs": []
    },
    {
      "cell_type": "code",
      "metadata": {
        "id": "BBLS7mJLAZmy"
      },
      "source": [
        "final_model = tf.keras.models.Sequential([ tf.keras.layers.Dense(2, activation=tf.nn.softmax) ])"
      ],
      "execution_count": 13,
      "outputs": []
    },
    {
      "cell_type": "code",
      "metadata": {
        "id": "NK7tMEoHAbH5"
      },
      "source": [
        "final_model.compile(optimizer='sgd', loss='sparse_categorical_crossentropy', metrics=['accuracy'])"
      ],
      "execution_count": 14,
      "outputs": []
    },
    {
      "cell_type": "code",
      "metadata": {
        "colab": {
          "base_uri": "https://localhost:8080/"
        },
        "id": "3MznztMCAfg5",
        "outputId": "42e61754-495f-4f23-dbf3-397b3956a7bd"
      },
      "source": [
        "final_model.fit(tf.convert_to_tensor(extract_features(train_x, freqs)), train_y, epochs=1000)"
      ],
      "execution_count": null,
      "outputs": [
        {
          "output_type": "stream",
          "name": "stdout",
          "text": [
            "Epoch 1/1000\n",
            "219/219 [==============================] - 1s 1ms/step - loss: 24.4524 - accuracy: 0.9903\n",
            "Epoch 2/1000\n",
            "219/219 [==============================] - 0s 1ms/step - loss: 9.3728 - accuracy: 0.9943\n",
            "Epoch 3/1000\n",
            "219/219 [==============================] - 0s 1ms/step - loss: 8.9891 - accuracy: 0.9944\n",
            "Epoch 4/1000\n",
            "219/219 [==============================] - 0s 1ms/step - loss: 8.5091 - accuracy: 0.9944\n",
            "Epoch 5/1000\n",
            "219/219 [==============================] - 0s 1ms/step - loss: 8.4425 - accuracy: 0.9946\n",
            "Epoch 6/1000\n",
            "219/219 [==============================] - 0s 1ms/step - loss: 8.0786 - accuracy: 0.9947\n",
            "Epoch 7/1000\n",
            "219/219 [==============================] - 0s 1ms/step - loss: 7.7749 - accuracy: 0.9941\n",
            "Epoch 8/1000\n",
            "219/219 [==============================] - 0s 1ms/step - loss: 7.5036 - accuracy: 0.9946\n",
            "Epoch 9/1000\n",
            "219/219 [==============================] - 0s 1ms/step - loss: 7.0862 - accuracy: 0.9943\n",
            "Epoch 10/1000\n",
            "219/219 [==============================] - 0s 1ms/step - loss: 6.9404 - accuracy: 0.9944\n",
            "Epoch 11/1000\n",
            "219/219 [==============================] - 0s 1ms/step - loss: 6.6333 - accuracy: 0.9940\n",
            "Epoch 12/1000\n",
            "219/219 [==============================] - 0s 1ms/step - loss: 6.1525 - accuracy: 0.9943\n",
            "Epoch 13/1000\n",
            "219/219 [==============================] - 0s 1ms/step - loss: 6.0239 - accuracy: 0.9946\n",
            "Epoch 14/1000\n",
            "219/219 [==============================] - 0s 1ms/step - loss: 5.5404 - accuracy: 0.9946\n",
            "Epoch 15/1000\n",
            "219/219 [==============================] - 0s 1ms/step - loss: 5.2567 - accuracy: 0.9949\n",
            "Epoch 16/1000\n",
            "219/219 [==============================] - 0s 1ms/step - loss: 5.0125 - accuracy: 0.9943\n",
            "Epoch 17/1000\n",
            "219/219 [==============================] - 0s 1ms/step - loss: 4.5476 - accuracy: 0.9949\n",
            "Epoch 18/1000\n",
            "219/219 [==============================] - 0s 1ms/step - loss: 4.5291 - accuracy: 0.9940\n",
            "Epoch 19/1000\n",
            "219/219 [==============================] - 0s 1ms/step - loss: 4.0641 - accuracy: 0.9943\n",
            "Epoch 20/1000\n",
            "219/219 [==============================] - 0s 1ms/step - loss: 3.7492 - accuracy: 0.9947\n",
            "Epoch 21/1000\n",
            "219/219 [==============================] - 0s 1ms/step - loss: 3.4820 - accuracy: 0.9941\n",
            "Epoch 22/1000\n",
            "219/219 [==============================] - 0s 1ms/step - loss: 3.0077 - accuracy: 0.9949\n",
            "Epoch 23/1000\n",
            "219/219 [==============================] - 0s 1ms/step - loss: 2.8211 - accuracy: 0.9951\n",
            "Epoch 24/1000\n",
            "219/219 [==============================] - 0s 1ms/step - loss: 2.5303 - accuracy: 0.9944\n",
            "Epoch 25/1000\n",
            "219/219 [==============================] - 0s 1ms/step - loss: 2.1823 - accuracy: 0.9941\n",
            "Epoch 26/1000\n",
            "219/219 [==============================] - 0s 1ms/step - loss: 1.9302 - accuracy: 0.9946\n",
            "Epoch 27/1000\n",
            "219/219 [==============================] - 0s 1ms/step - loss: 1.5506 - accuracy: 0.9934\n",
            "Epoch 28/1000\n",
            "219/219 [==============================] - 0s 1ms/step - loss: 1.3391 - accuracy: 0.9939\n",
            "Epoch 29/1000\n",
            "219/219 [==============================] - 0s 1ms/step - loss: 1.1681 - accuracy: 0.9929\n",
            "Epoch 30/1000\n",
            "219/219 [==============================] - 0s 1ms/step - loss: 0.9625 - accuracy: 0.9931\n",
            "Epoch 31/1000\n",
            "219/219 [==============================] - 0s 1ms/step - loss: 0.9291 - accuracy: 0.9929\n",
            "Epoch 32/1000\n",
            "219/219 [==============================] - 0s 1ms/step - loss: 0.8258 - accuracy: 0.9923\n",
            "Epoch 33/1000\n",
            "219/219 [==============================] - 0s 1ms/step - loss: 0.6800 - accuracy: 0.9936\n",
            "Epoch 34/1000\n",
            "219/219 [==============================] - 0s 1ms/step - loss: 0.9079 - accuracy: 0.9906\n",
            "Epoch 35/1000\n",
            "219/219 [==============================] - 0s 1ms/step - loss: 0.7445 - accuracy: 0.9926\n",
            "Epoch 36/1000\n",
            "219/219 [==============================] - 0s 1ms/step - loss: 2.0852 - accuracy: 0.9897\n",
            "Epoch 37/1000\n",
            "219/219 [==============================] - 0s 1ms/step - loss: 3.2212 - accuracy: 0.9940\n",
            "Epoch 38/1000\n",
            "219/219 [==============================] - 0s 1ms/step - loss: 2.4179 - accuracy: 0.9941\n",
            "Epoch 39/1000\n",
            "219/219 [==============================] - 0s 1ms/step - loss: 2.0828 - accuracy: 0.9940\n",
            "Epoch 40/1000\n",
            "219/219 [==============================] - 0s 1ms/step - loss: 1.7245 - accuracy: 0.9936\n",
            "Epoch 41/1000\n",
            "219/219 [==============================] - 0s 1ms/step - loss: 1.3971 - accuracy: 0.9950\n",
            "Epoch 42/1000\n",
            "219/219 [==============================] - 0s 1ms/step - loss: 1.0904 - accuracy: 0.9939\n",
            "Epoch 43/1000\n",
            "219/219 [==============================] - 0s 1ms/step - loss: 1.0346 - accuracy: 0.9939\n",
            "Epoch 44/1000\n",
            "219/219 [==============================] - 0s 1ms/step - loss: 0.8834 - accuracy: 0.9933\n",
            "Epoch 45/1000\n",
            "219/219 [==============================] - 0s 1ms/step - loss: 0.9134 - accuracy: 0.9911\n",
            "Epoch 46/1000\n",
            "219/219 [==============================] - 0s 1ms/step - loss: 0.8973 - accuracy: 0.9924\n",
            "Epoch 47/1000\n",
            "219/219 [==============================] - 0s 1ms/step - loss: 0.7944 - accuracy: 0.9921\n",
            "Epoch 48/1000\n",
            "219/219 [==============================] - 0s 1ms/step - loss: 0.8056 - accuracy: 0.9914\n",
            "Epoch 49/1000\n",
            "219/219 [==============================] - 0s 1ms/step - loss: 0.7427 - accuracy: 0.9916\n",
            "Epoch 50/1000\n",
            "219/219 [==============================] - 0s 1ms/step - loss: 0.8611 - accuracy: 0.9920\n",
            "Epoch 51/1000\n",
            "219/219 [==============================] - 0s 1ms/step - loss: 0.7149 - accuracy: 0.9933\n",
            "Epoch 52/1000\n",
            "219/219 [==============================] - 0s 1ms/step - loss: 0.9770 - accuracy: 0.9926\n",
            "Epoch 53/1000\n",
            "219/219 [==============================] - 0s 1ms/step - loss: 0.8717 - accuracy: 0.9921\n",
            "Epoch 54/1000\n",
            "219/219 [==============================] - 0s 1ms/step - loss: 0.8532 - accuracy: 0.9930\n",
            "Epoch 55/1000\n",
            "219/219 [==============================] - 0s 1ms/step - loss: 0.6421 - accuracy: 0.9921\n",
            "Epoch 56/1000\n",
            "219/219 [==============================] - 0s 1ms/step - loss: 0.8253 - accuracy: 0.9921\n",
            "Epoch 57/1000\n",
            "219/219 [==============================] - 0s 1ms/step - loss: 0.6387 - accuracy: 0.9924\n",
            "Epoch 58/1000\n",
            "219/219 [==============================] - 0s 1ms/step - loss: 0.7818 - accuracy: 0.9921\n",
            "Epoch 59/1000\n",
            "219/219 [==============================] - 0s 1ms/step - loss: 4.3129 - accuracy: 0.9897\n",
            "Epoch 60/1000\n",
            "219/219 [==============================] - 0s 1ms/step - loss: 3.5245 - accuracy: 0.9946\n",
            "Epoch 61/1000\n",
            "219/219 [==============================] - 0s 1ms/step - loss: 3.2163 - accuracy: 0.9941\n",
            "Epoch 62/1000\n",
            "219/219 [==============================] - 0s 1ms/step - loss: 2.7904 - accuracy: 0.9940\n",
            "Epoch 63/1000\n",
            "219/219 [==============================] - 0s 1ms/step - loss: 2.5727 - accuracy: 0.9943\n",
            "Epoch 64/1000\n",
            "219/219 [==============================] - 0s 1ms/step - loss: 2.1221 - accuracy: 0.9940\n",
            "Epoch 65/1000\n",
            "219/219 [==============================] - 0s 1ms/step - loss: 1.9362 - accuracy: 0.9946\n",
            "Epoch 66/1000\n",
            "219/219 [==============================] - 0s 1ms/step - loss: 1.7137 - accuracy: 0.9937\n",
            "Epoch 67/1000\n",
            "219/219 [==============================] - 0s 1ms/step - loss: 1.5037 - accuracy: 0.9937\n",
            "Epoch 68/1000\n",
            "219/219 [==============================] - 0s 1ms/step - loss: 1.3060 - accuracy: 0.9933\n",
            "Epoch 69/1000\n",
            "219/219 [==============================] - 0s 1ms/step - loss: 1.1731 - accuracy: 0.9933\n",
            "Epoch 70/1000\n",
            "219/219 [==============================] - 0s 1ms/step - loss: 0.7683 - accuracy: 0.9931\n",
            "Epoch 71/1000\n",
            "219/219 [==============================] - 0s 1ms/step - loss: 0.9010 - accuracy: 0.9921\n",
            "Epoch 72/1000\n",
            "219/219 [==============================] - 0s 1ms/step - loss: 0.7490 - accuracy: 0.9930\n",
            "Epoch 73/1000\n",
            "219/219 [==============================] - 0s 1ms/step - loss: 8.5805 - accuracy: 0.9881\n",
            "Epoch 74/1000\n",
            "219/219 [==============================] - 0s 1ms/step - loss: 4.6331 - accuracy: 0.9950\n",
            "Epoch 75/1000\n",
            "219/219 [==============================] - 0s 1ms/step - loss: 4.6661 - accuracy: 0.9946\n",
            "Epoch 76/1000\n",
            "219/219 [==============================] - 0s 1ms/step - loss: 4.0243 - accuracy: 0.9947\n",
            "Epoch 77/1000\n",
            "219/219 [==============================] - 0s 1ms/step - loss: 3.8163 - accuracy: 0.9949\n",
            "Epoch 78/1000\n",
            "219/219 [==============================] - 0s 1ms/step - loss: 3.5584 - accuracy: 0.9939\n",
            "Epoch 79/1000\n",
            "219/219 [==============================] - 0s 1ms/step - loss: 3.4683 - accuracy: 0.9941\n",
            "Epoch 80/1000\n",
            "219/219 [==============================] - 0s 1ms/step - loss: 3.0850 - accuracy: 0.9939\n",
            "Epoch 81/1000\n",
            "219/219 [==============================] - 0s 1ms/step - loss: 2.6758 - accuracy: 0.9940\n",
            "Epoch 82/1000\n",
            "219/219 [==============================] - 0s 1ms/step - loss: 2.3052 - accuracy: 0.9946\n",
            "Epoch 83/1000\n",
            "219/219 [==============================] - 0s 1ms/step - loss: 2.2024 - accuracy: 0.9940\n",
            "Epoch 84/1000\n",
            "219/219 [==============================] - 0s 1ms/step - loss: 1.8125 - accuracy: 0.9939\n",
            "Epoch 85/1000\n",
            "219/219 [==============================] - 0s 1ms/step - loss: 1.3767 - accuracy: 0.9940\n",
            "Epoch 86/1000\n",
            "219/219 [==============================] - 0s 1ms/step - loss: 1.3498 - accuracy: 0.9941\n",
            "Epoch 87/1000\n",
            "219/219 [==============================] - 0s 1ms/step - loss: 1.0257 - accuracy: 0.9937\n",
            "Epoch 88/1000\n",
            "219/219 [==============================] - 0s 1ms/step - loss: 1.0597 - accuracy: 0.9920\n",
            "Epoch 89/1000\n",
            "219/219 [==============================] - 0s 1ms/step - loss: 0.9874 - accuracy: 0.9926\n",
            "Epoch 90/1000\n",
            "219/219 [==============================] - 0s 1ms/step - loss: 0.6501 - accuracy: 0.9936\n",
            "Epoch 91/1000\n",
            "219/219 [==============================] - 0s 1ms/step - loss: 0.7549 - accuracy: 0.9917\n",
            "Epoch 92/1000\n",
            "219/219 [==============================] - 0s 1ms/step - loss: 0.8416 - accuracy: 0.9919\n",
            "Epoch 93/1000\n",
            "219/219 [==============================] - 0s 1ms/step - loss: 0.7766 - accuracy: 0.9924\n",
            "Epoch 94/1000\n",
            "219/219 [==============================] - 0s 1ms/step - loss: 0.6737 - accuracy: 0.9917\n",
            "Epoch 95/1000\n",
            "219/219 [==============================] - 0s 1ms/step - loss: 0.8139 - accuracy: 0.9929\n",
            "Epoch 96/1000\n",
            "219/219 [==============================] - 0s 1ms/step - loss: 0.8967 - accuracy: 0.9913\n",
            "Epoch 97/1000\n",
            "219/219 [==============================] - 0s 1ms/step - loss: 0.7137 - accuracy: 0.9934\n",
            "Epoch 98/1000\n",
            "219/219 [==============================] - 0s 1ms/step - loss: 0.8610 - accuracy: 0.9919\n",
            "Epoch 99/1000\n",
            "219/219 [==============================] - 0s 1ms/step - loss: 1.0380 - accuracy: 0.9910\n",
            "Epoch 100/1000\n",
            "219/219 [==============================] - 0s 1ms/step - loss: 0.8270 - accuracy: 0.9919\n",
            "Epoch 101/1000\n",
            "219/219 [==============================] - 0s 1ms/step - loss: 0.7927 - accuracy: 0.9911\n",
            "Epoch 102/1000\n",
            "219/219 [==============================] - 0s 1ms/step - loss: 0.9443 - accuracy: 0.9927\n",
            "Epoch 103/1000\n",
            "219/219 [==============================] - 0s 1ms/step - loss: 0.9299 - accuracy: 0.9946\n",
            "Epoch 104/1000\n",
            "219/219 [==============================] - 0s 1ms/step - loss: 0.9267 - accuracy: 0.9926\n",
            "Epoch 105/1000\n",
            "219/219 [==============================] - 0s 1ms/step - loss: 0.6885 - accuracy: 0.9930\n",
            "Epoch 106/1000\n",
            "219/219 [==============================] - 0s 1ms/step - loss: 1.0828 - accuracy: 0.9909\n",
            "Epoch 107/1000\n",
            "219/219 [==============================] - 0s 1ms/step - loss: 0.9786 - accuracy: 0.9936\n",
            "Epoch 108/1000\n",
            "219/219 [==============================] - 0s 1ms/step - loss: 0.8024 - accuracy: 0.9929\n",
            "Epoch 109/1000\n",
            "219/219 [==============================] - 0s 1ms/step - loss: 1.7859 - accuracy: 0.9924\n",
            "Epoch 110/1000\n",
            "219/219 [==============================] - 0s 1ms/step - loss: 1.0973 - accuracy: 0.9929\n",
            "Epoch 111/1000\n",
            "219/219 [==============================] - 0s 1ms/step - loss: 0.8607 - accuracy: 0.9921\n",
            "Epoch 112/1000\n",
            "219/219 [==============================] - 0s 1ms/step - loss: 0.8177 - accuracy: 0.9929\n",
            "Epoch 113/1000\n",
            "219/219 [==============================] - 0s 1ms/step - loss: 0.6750 - accuracy: 0.9930\n",
            "Epoch 114/1000\n",
            "219/219 [==============================] - 0s 1ms/step - loss: 0.7472 - accuracy: 0.9930\n",
            "Epoch 115/1000\n",
            "219/219 [==============================] - 0s 1ms/step - loss: 0.9169 - accuracy: 0.9933\n",
            "Epoch 116/1000\n",
            "219/219 [==============================] - 0s 1ms/step - loss: 0.8968 - accuracy: 0.9930\n",
            "Epoch 117/1000\n",
            "219/219 [==============================] - 0s 1ms/step - loss: 0.8907 - accuracy: 0.9921\n",
            "Epoch 118/1000\n",
            "219/219 [==============================] - 0s 1ms/step - loss: 0.8441 - accuracy: 0.9923\n",
            "Epoch 119/1000\n",
            "219/219 [==============================] - 0s 1ms/step - loss: 0.6928 - accuracy: 0.9916\n",
            "Epoch 120/1000\n",
            "219/219 [==============================] - 0s 1ms/step - loss: 0.8244 - accuracy: 0.9923\n",
            "Epoch 121/1000\n",
            "219/219 [==============================] - 0s 1ms/step - loss: 0.6920 - accuracy: 0.9923\n",
            "Epoch 122/1000\n",
            "219/219 [==============================] - 0s 1ms/step - loss: 0.9060 - accuracy: 0.9910\n",
            "Epoch 123/1000\n",
            "219/219 [==============================] - 0s 1ms/step - loss: 0.5675 - accuracy: 0.9936\n",
            "Epoch 124/1000\n",
            "219/219 [==============================] - 0s 1ms/step - loss: 0.6796 - accuracy: 0.9920\n",
            "Epoch 125/1000\n",
            "219/219 [==============================] - 0s 1ms/step - loss: 4.9068 - accuracy: 0.9909\n",
            "Epoch 126/1000\n",
            "219/219 [==============================] - 0s 1ms/step - loss: 3.2170 - accuracy: 0.9946\n",
            "Epoch 127/1000\n",
            "219/219 [==============================] - 0s 1ms/step - loss: 2.9749 - accuracy: 0.9946\n",
            "Epoch 128/1000\n",
            "219/219 [==============================] - 0s 1ms/step - loss: 2.3190 - accuracy: 0.9943\n",
            "Epoch 129/1000\n",
            "219/219 [==============================] - 0s 1ms/step - loss: 2.5854 - accuracy: 0.9941\n",
            "Epoch 130/1000\n",
            "219/219 [==============================] - 0s 1ms/step - loss: 2.1671 - accuracy: 0.9936\n",
            "Epoch 131/1000\n",
            "219/219 [==============================] - 0s 1ms/step - loss: 1.8971 - accuracy: 0.9937\n",
            "Epoch 132/1000\n",
            "219/219 [==============================] - 0s 1ms/step - loss: 1.5427 - accuracy: 0.9930\n",
            "Epoch 133/1000\n",
            "219/219 [==============================] - 0s 1ms/step - loss: 1.2580 - accuracy: 0.9934\n",
            "Epoch 134/1000\n",
            "219/219 [==============================] - 0s 1ms/step - loss: 1.1435 - accuracy: 0.9934\n",
            "Epoch 135/1000\n",
            "219/219 [==============================] - 0s 1ms/step - loss: 0.7648 - accuracy: 0.9937\n",
            "Epoch 136/1000\n",
            "219/219 [==============================] - 0s 1ms/step - loss: 0.9179 - accuracy: 0.9916\n",
            "Epoch 137/1000\n",
            "219/219 [==============================] - 0s 1ms/step - loss: 0.8811 - accuracy: 0.9927\n",
            "Epoch 138/1000\n",
            "219/219 [==============================] - 0s 1ms/step - loss: 0.7801 - accuracy: 0.9931\n",
            "Epoch 139/1000\n",
            "219/219 [==============================] - 0s 1ms/step - loss: 0.7513 - accuracy: 0.9919\n",
            "Epoch 140/1000\n",
            "219/219 [==============================] - 0s 1ms/step - loss: 6.4267 - accuracy: 0.9913\n",
            "Epoch 141/1000\n",
            "219/219 [==============================] - 0s 2ms/step - loss: 3.6343 - accuracy: 0.9943\n",
            "Epoch 142/1000\n",
            "219/219 [==============================] - 0s 1ms/step - loss: 3.4904 - accuracy: 0.9944\n",
            "Epoch 143/1000\n",
            "219/219 [==============================] - 0s 1ms/step - loss: 3.0349 - accuracy: 0.9941\n",
            "Epoch 144/1000\n",
            "219/219 [==============================] - 0s 1ms/step - loss: 2.7850 - accuracy: 0.9943\n",
            "Epoch 145/1000\n",
            "219/219 [==============================] - 0s 1ms/step - loss: 2.4705 - accuracy: 0.9946\n",
            "Epoch 146/1000\n",
            "219/219 [==============================] - 0s 1ms/step - loss: 2.0991 - accuracy: 0.9941\n",
            "Epoch 147/1000\n",
            "219/219 [==============================] - 0s 1ms/step - loss: 1.8803 - accuracy: 0.9943\n",
            "Epoch 148/1000\n",
            "219/219 [==============================] - 0s 1ms/step - loss: 1.5032 - accuracy: 0.9937\n",
            "Epoch 149/1000\n",
            "219/219 [==============================] - 0s 1ms/step - loss: 1.1536 - accuracy: 0.9941\n",
            "Epoch 150/1000\n",
            "219/219 [==============================] - 0s 1ms/step - loss: 0.9500 - accuracy: 0.9930\n",
            "Epoch 151/1000\n",
            "219/219 [==============================] - 0s 1ms/step - loss: 0.8132 - accuracy: 0.9937\n",
            "Epoch 152/1000\n",
            "219/219 [==============================] - 0s 1ms/step - loss: 0.8847 - accuracy: 0.9921\n",
            "Epoch 153/1000\n",
            "219/219 [==============================] - 0s 1ms/step - loss: 0.8084 - accuracy: 0.9924\n",
            "Epoch 154/1000\n",
            "219/219 [==============================] - 0s 1ms/step - loss: 0.8482 - accuracy: 0.9920\n",
            "Epoch 155/1000\n",
            "219/219 [==============================] - 0s 1ms/step - loss: 0.7687 - accuracy: 0.9931\n",
            "Epoch 156/1000\n",
            "219/219 [==============================] - 0s 1ms/step - loss: 0.8005 - accuracy: 0.9936\n",
            "Epoch 157/1000\n",
            "219/219 [==============================] - 0s 1ms/step - loss: 0.8717 - accuracy: 0.9917\n",
            "Epoch 158/1000\n",
            "219/219 [==============================] - 0s 1ms/step - loss: 0.7215 - accuracy: 0.9927\n",
            "Epoch 159/1000\n",
            "219/219 [==============================] - 0s 1ms/step - loss: 0.8400 - accuracy: 0.9916\n",
            "Epoch 160/1000\n",
            "219/219 [==============================] - 0s 1ms/step - loss: 0.9448 - accuracy: 0.9923\n",
            "Epoch 161/1000\n",
            "219/219 [==============================] - 0s 1ms/step - loss: 0.6144 - accuracy: 0.9921\n",
            "Epoch 162/1000\n",
            "219/219 [==============================] - 0s 1ms/step - loss: 1.4593 - accuracy: 0.9921\n",
            "Epoch 163/1000\n",
            "219/219 [==============================] - 0s 1ms/step - loss: 1.2390 - accuracy: 0.9940\n",
            "Epoch 164/1000\n",
            "219/219 [==============================] - 0s 1ms/step - loss: 1.0091 - accuracy: 0.9936\n",
            "Epoch 165/1000\n",
            "219/219 [==============================] - 0s 1ms/step - loss: 0.9288 - accuracy: 0.9920\n",
            "Epoch 166/1000\n",
            "219/219 [==============================] - 0s 1ms/step - loss: 0.7877 - accuracy: 0.9913\n",
            "Epoch 167/1000\n",
            "219/219 [==============================] - 0s 1ms/step - loss: 2.1086 - accuracy: 0.9926\n",
            "Epoch 168/1000\n",
            "219/219 [==============================] - 0s 1ms/step - loss: 1.3085 - accuracy: 0.9937\n",
            "Epoch 169/1000\n",
            "219/219 [==============================] - 0s 1ms/step - loss: 1.1260 - accuracy: 0.9933\n",
            "Epoch 170/1000\n",
            "219/219 [==============================] - 0s 1ms/step - loss: 0.9429 - accuracy: 0.9930\n",
            "Epoch 171/1000\n",
            "219/219 [==============================] - 0s 1ms/step - loss: 0.7220 - accuracy: 0.9931\n",
            "Epoch 172/1000\n",
            "219/219 [==============================] - 0s 1ms/step - loss: 0.7801 - accuracy: 0.9917\n",
            "Epoch 173/1000\n",
            "219/219 [==============================] - 0s 1ms/step - loss: 0.8028 - accuracy: 0.9910\n",
            "Epoch 174/1000\n",
            " 70/219 [========>.....................] - ETA: 0s - loss: 1.0029 - accuracy: 0.9915"
          ]
        }
      ]
    },
    {
      "cell_type": "code",
      "metadata": {
        "id": "Riq42It5AhY5"
      },
      "source": [
        "final_model.evaluate(tf.convert_to_tensor(extract_features(test_x, freqs)), test_y)"
      ],
      "execution_count": null,
      "outputs": []
    }
  ]
}